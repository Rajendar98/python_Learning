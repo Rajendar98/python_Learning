{
  "nbformat": 4,
  "nbformat_minor": 0,
  "metadata": {
    "colab": {
      "provenance": [],
      "include_colab_link": true
    },
    "kernelspec": {
      "name": "python3",
      "display_name": "Python 3"
    },
    "language_info": {
      "name": "python"
    }
  },
  "cells": [
    {
      "cell_type": "markdown",
      "metadata": {
        "id": "view-in-github",
        "colab_type": "text"
      },
      "source": [
        "<a href=\"https://colab.research.google.com/github/Rajendar98/python_Learning/blob/main/python_Assignment.ipynb\" target=\"_parent\"><img src=\"https://colab.research.google.com/assets/colab-badge.svg\" alt=\"Open In Colab\"/></a>"
      ]
    },
    {
      "cell_type": "markdown",
      "source": [
        "`Good morning, wish you all the best,.All the 3 assignment has been included here only`"
      ],
      "metadata": {
        "id": "jWYB760w4xUu"
      }
    },
    {
      "cell_type": "markdown",
      "source": [
        "# Part ONe"
      ],
      "metadata": {
        "id": "uRvHq6WK1iip"
      }
    },
    {
      "cell_type": "markdown",
      "source": [
        "## 1. Create a function that sum only the float number from a given hetrogenous list"
      ],
      "metadata": {
        "id": "xpZzcKAyyb6V"
      }
    },
    {
      "cell_type": "code",
      "source": [
        "l=[1786.987,2.0,3,3.4,5.6,6,\"hello\",9.8,9,\"7.6\",]\n",
        "res=0\n",
        "for i in l:\n",
        "    if str(type(i))==\"<class 'float'>\":\n",
        "        res+=i\n",
        "print(res)"
      ],
      "metadata": {
        "id": "eLlEJRxTy8_f",
        "colab": {
          "base_uri": "https://localhost:8080/"
        },
        "outputId": "5dca7fd9-df48-4705-dad4-c647d4079176"
      },
      "execution_count": 16,
      "outputs": [
        {
          "output_type": "stream",
          "name": "stdout",
          "text": [
            "1807.787\n"
          ]
        }
      ]
    },
    {
      "cell_type": "code",
      "source": [
        "for i in range(len(l)-1,-1,-1):\n",
        "  print(l[i],end=\", \")"
      ],
      "metadata": {
        "id": "TO6D3KTSy9-x",
        "colab": {
          "base_uri": "https://localhost:8080/"
        },
        "outputId": "324f8174-4f60-4c45-ef84-aecd590620fa"
      },
      "execution_count": 24,
      "outputs": [
        {
          "output_type": "stream",
          "name": "stdout",
          "text": [
            "7.6, 9, 9.8, hello, 6, 5.6, 3.4, 3, 2.0, 1786.987, "
          ]
        }
      ]
    },
    {
      "cell_type": "markdown",
      "source": [
        "## 2. Count the total number of digit using the loop"
      ],
      "metadata": {
        "id": "MxMyCaZHzEB-"
      }
    },
    {
      "cell_type": "code",
      "source": [
        "n=int(input(\"enter any number to find no. of digits: \"))\n",
        "x=abs(n)\n",
        "ct=0\n",
        "while x!=0:\n",
        "  r=x%10\n",
        "  ct+=1\n",
        "  x=x//10\n",
        "print(\"Number of Digits in number is: \",ct)"
      ],
      "metadata": {
        "id": "DZYJiYdQzcVv",
        "colab": {
          "base_uri": "https://localhost:8080/"
        },
        "outputId": "67e1c3e4-6523-4c3e-8ec9-6e7597109e8f"
      },
      "execution_count": 31,
      "outputs": [
        {
          "output_type": "stream",
          "name": "stdout",
          "text": [
            "enter any number to find no. of digits: 123456\n",
            "Number of Digits in number is:  6\n"
          ]
        }
      ]
    },
    {
      "cell_type": "markdown",
      "source": [
        "## 3. Display this\n",
        "5 4 3 2 1\n",
        "\n",
        "4 3 2 1\n",
        "\n",
        "3 2 1\n",
        "\n",
        "2 1\n",
        "\n",
        "1"
      ],
      "metadata": {
        "id": "kG8Phx7VzYWD"
      }
    },
    {
      "cell_type": "code",
      "source": [
        "n=int(input(\"enter any number :\"))\n",
        "for i in range(n,0,-1):\n",
        "  for j in range(i,0,-1):\n",
        "    print(j,end=\" \")\n",
        "  print()"
      ],
      "metadata": {
        "colab": {
          "base_uri": "https://localhost:8080/"
        },
        "id": "fHsmF63Iup7z",
        "outputId": "c9352dcc-5980-480c-bfda-1caed4b36a20"
      },
      "execution_count": 33,
      "outputs": [
        {
          "output_type": "stream",
          "name": "stdout",
          "text": [
            "enter any number :5\n",
            "5 4 3 2 1 \n",
            "4 3 2 1 \n",
            "3 2 1 \n",
            "2 1 \n",
            "1 \n"
          ]
        }
      ]
    },
    {
      "cell_type": "markdown",
      "source": [
        "## 4. Display this\n",
        "      *\n",
        "      * *\n",
        "      * * *\n",
        "      * * * *\n",
        "      * * * * *\n",
        "      * * * *\n",
        "      * * *\n",
        "      * *\n",
        "      *"
      ],
      "metadata": {
        "id": "xTaGWpQXzy-M"
      }
    },
    {
      "cell_type": "code",
      "source": [
        "n=int(input(\"enter any number: \"))\n",
        "for i in range(n):\n",
        "  print('* '*(i+1))\n",
        "for j in range(n):\n",
        "  print('* '*(n-j-1))"
      ],
      "metadata": {
        "id": "ixPmbjRfzx16",
        "colab": {
          "base_uri": "https://localhost:8080/"
        },
        "outputId": "791c5a39-809d-4af5-d2d2-0784cc7f78fe"
      },
      "execution_count": 49,
      "outputs": [
        {
          "output_type": "stream",
          "name": "stdout",
          "text": [
            "enter any number: 5\n",
            "* \n",
            "* * \n",
            "* * * \n",
            "* * * * \n",
            "* * * * * \n",
            "* * * * \n",
            "* * * \n",
            "* * \n",
            "* \n",
            "\n"
          ]
        }
      ]
    },
    {
      "cell_type": "markdown",
      "source": [
        "## 5. Write function that generate multiplication table upto a given range in Python"
      ],
      "metadata": {
        "id": "1OYQk9N70Ax3"
      }
    },
    {
      "cell_type": "code",
      "source": [
        "def table(n,rnge):\n",
        "  for i in range(1,rnge+1):\n",
        "    print(f\"{n} * {i} = {n*i}\")\n",
        "n,rnge=map(int,input(\"enter n and range value: \").split())\n",
        "table(n,rnge)"
      ],
      "metadata": {
        "id": "NeosDqO904-u",
        "colab": {
          "base_uri": "https://localhost:8080/"
        },
        "outputId": "90d70f28-fb59-4c07-8a5d-04693e40944e"
      },
      "execution_count": 62,
      "outputs": [
        {
          "output_type": "stream",
          "name": "stdout",
          "text": [
            "enter n and range value: 5 10\n",
            "5 * 1 = 5\n",
            "5 * 2 = 10\n",
            "5 * 3 = 15\n",
            "5 * 4 = 20\n",
            "5 * 5 = 25\n",
            "5 * 6 = 30\n",
            "5 * 7 = 35\n",
            "5 * 8 = 40\n",
            "5 * 9 = 45\n",
            "5 * 10 = 50\n"
          ]
        }
      ]
    },
    {
      "cell_type": "code",
      "source": [
        "# what are the difference between the list comprehension and loop??"
      ],
      "metadata": {
        "id": "V9z-kXUi0468"
      },
      "execution_count": null,
      "outputs": []
    },
    {
      "cell_type": "code",
      "source": [
        "#Example:-Loops\n",
        "l=[]\n",
        "for i in range(6):      #creating the empty list to store elements\n",
        "  l.append(i)\n",
        "print(l)\n",
        "\n",
        "#Example:- for Comprehension\n",
        "s=[i for i in range(6)]   #Default taking the  list\n",
        "print(s)"
      ],
      "metadata": {
        "id": "e0eLnJqd04b2",
        "colab": {
          "base_uri": "https://localhost:8080/"
        },
        "outputId": "7d0907c5-6d77-42b7-83ce-8f4918d3f2ba"
      },
      "execution_count": 64,
      "outputs": [
        {
          "output_type": "stream",
          "name": "stdout",
          "text": [
            "[0, 1, 2, 3, 4, 5]\n",
            "[0, 1, 2, 3, 4, 5]\n"
          ]
        }
      ]
    },
    {
      "cell_type": "markdown",
      "source": [
        "# Part two"
      ],
      "metadata": {
        "id": "HrRqpK9A1mvj"
      }
    },
    {
      "cell_type": "markdown",
      "source": [
        "## 6. Write a python program for the palindrome checker using the loop"
      ],
      "metadata": {
        "id": "T36QPuxw1pfo"
      }
    },
    {
      "cell_type": "code",
      "source": [
        "num = int(input(\"enter any number: \"))\n",
        "cur=num\n",
        "res=0\n",
        "while cur!=0:\n",
        "  rem=cur%10\n",
        "  res=res*10+rem\n",
        "  cur//=10\n",
        "if res==num:\n",
        "  print(num,\"is Palindrome\")\n",
        "else:\n",
        "  print(num,\"is not a Palindrome\")"
      ],
      "metadata": {
        "id": "5k_AjmF_2c6r",
        "colab": {
          "base_uri": "https://localhost:8080/"
        },
        "outputId": "15b4ff7e-0aed-45ec-d2c3-6fe5a81d71c4"
      },
      "execution_count": 67,
      "outputs": [
        {
          "output_type": "stream",
          "name": "stdout",
          "text": [
            "enter any number: 224\n",
            "224 is not a Palindrome\n"
          ]
        }
      ]
    },
    {
      "cell_type": "markdown",
      "source": [
        "## 7. Factorial Calculation\n",
        "Write a program that calculates the factorial of a given number using a loop. The user should input the number, and the program should display its factorial."
      ],
      "metadata": {
        "id": "QLZ4Dc1O1zHm"
      }
    },
    {
      "cell_type": "code",
      "source": [
        "def factorial(n):\n",
        "  res=1\n",
        "  for i in range(1,n+1):\n",
        "    res=res*i\n",
        "  return res\n",
        "print(factorial(int(input(\"enter number to find Factorial: \"))))"
      ],
      "metadata": {
        "id": "XJZCGK0s2LYV",
        "colab": {
          "base_uri": "https://localhost:8080/"
        },
        "outputId": "3bc6cca0-db02-4f55-ca36-ee5aba05a692"
      },
      "execution_count": 71,
      "outputs": [
        {
          "output_type": "stream",
          "name": "stdout",
          "text": [
            "enter number to find Factorial: 5\n",
            "120\n"
          ]
        }
      ]
    },
    {
      "cell_type": "markdown",
      "source": [
        "## 8. Binary to Decimal Converter\n",
        "Create a program that converts a binary number (entered by the user) to its decimal equivalent. The user should input the binary number as a string, and the program should output its decimal equivalent."
      ],
      "metadata": {
        "id": "dAX_1Cgx2LtY"
      }
    },
    {
      "cell_type": "code",
      "source": [
        "x=input(\"enter only binary number: \")\n",
        "y=len(x)\n",
        "z=y-1\n",
        "result=0\n",
        "for i in range(y):\n",
        "  if x[i]=='1':\n",
        "    result+=(2**z)\n",
        "    z-=1\n",
        "  else:\n",
        "    z-=1\n",
        "print(result)"
      ],
      "metadata": {
        "colab": {
          "base_uri": "https://localhost:8080/"
        },
        "id": "fHULfuhY8IYg",
        "outputId": "4b26a2fc-097d-4de4-9ec6-87bfd1b8c83f"
      },
      "execution_count": 94,
      "outputs": [
        {
          "output_type": "stream",
          "name": "stdout",
          "text": [
            "enter only binary number: 1000\n",
            "8\n"
          ]
        }
      ]
    },
    {
      "cell_type": "markdown",
      "source": [
        "## 10. Matrix Transposition:\n",
        "Create a program that transposes a given matrix. The user should input the matrix as a list of lists, and the program should output the transposed matrix. For example, if the input is:"
      ],
      "metadata": {
        "id": "bhFgXCu52R3n"
      }
    },
    {
      "cell_type": "code",
      "source": [
        "mat1=[[1,2,3],[4,5,6],[7,8,9]]\n",
        "print(\"Original Mtarix is: \")\n",
        "for i in range(len(mat1)):\n",
        "  for j in range(len(mat1)):\n",
        "    print(mat1[i][j],end=\" \")\n",
        "  print()\n",
        "print(\"The Transpose matrix is: \")\n",
        "mat2=[[0]*len(mat1)]*len(mat1)\n",
        "for i in range(len(mat2)):\n",
        "  for j in range(len(mat2)):\n",
        "    mat2[i][j]=mat1[j][i]\n",
        "    print(mat2[i][j],end=\" \")\n",
        "  print()\n"
      ],
      "metadata": {
        "id": "DhprwtQ02hWg",
        "colab": {
          "base_uri": "https://localhost:8080/"
        },
        "outputId": "6cdd1995-6b70-41d5-861a-26ac279e6915"
      },
      "execution_count": 111,
      "outputs": [
        {
          "output_type": "stream",
          "name": "stdout",
          "text": [
            "Original Mtarix is: \n",
            "1 2 3 \n",
            "4 5 6 \n",
            "7 8 9 \n",
            "The Transpose matrix is: \n",
            "1 4 7 \n",
            "2 5 8 \n",
            "3 6 9 \n"
          ]
        }
      ]
    },
    {
      "cell_type": "markdown",
      "source": [
        "`Feel free to tackle these exercises and let me know if you have any questions or need further explanations!`"
      ],
      "metadata": {
        "id": "l1a5wpfM2hv6"
      }
    },
    {
      "cell_type": "markdown",
      "source": [
        "# Part Three File Handling\n",
        "Calm and do it slowly and in github also try to upload the files possible"
      ],
      "metadata": {
        "id": "ZlrFrill3Bl4"
      }
    },
    {
      "cell_type": "markdown",
      "source": [
        "## 11. program to open the text file and edit it"
      ],
      "metadata": {
        "id": "-9k8YJfF3BLW"
      }
    },
    {
      "cell_type": "code",
      "source": [
        "from google.colab import files\n",
        "uploaded = files.upload()\n",
        "f2=open(\"file1.txt\",\"r+\")\n",
        "print(f2.read())\n",
        "f2.close()"
      ],
      "metadata": {
        "id": "Quy4F2UR3c04",
        "colab": {
          "base_uri": "https://localhost:8080/",
          "height": 90
        },
        "outputId": "c6851b8f-7259-494d-cfc4-0ac811d38384"
      },
      "execution_count": 67,
      "outputs": [
        {
          "output_type": "display_data",
          "data": {
            "text/plain": [
              "<IPython.core.display.HTML object>"
            ],
            "text/html": [
              "\n",
              "     <input type=\"file\" id=\"files-e192eef7-d7ef-4574-93cb-8432b574a5a4\" name=\"files[]\" multiple disabled\n",
              "        style=\"border:none\" />\n",
              "     <output id=\"result-e192eef7-d7ef-4574-93cb-8432b574a5a4\">\n",
              "      Upload widget is only available when the cell has been executed in the\n",
              "      current browser session. Please rerun this cell to enable.\n",
              "      </output>\n",
              "      <script>// Copyright 2017 Google LLC\n",
              "//\n",
              "// Licensed under the Apache License, Version 2.0 (the \"License\");\n",
              "// you may not use this file except in compliance with the License.\n",
              "// You may obtain a copy of the License at\n",
              "//\n",
              "//      http://www.apache.org/licenses/LICENSE-2.0\n",
              "//\n",
              "// Unless required by applicable law or agreed to in writing, software\n",
              "// distributed under the License is distributed on an \"AS IS\" BASIS,\n",
              "// WITHOUT WARRANTIES OR CONDITIONS OF ANY KIND, either express or implied.\n",
              "// See the License for the specific language governing permissions and\n",
              "// limitations under the License.\n",
              "\n",
              "/**\n",
              " * @fileoverview Helpers for google.colab Python module.\n",
              " */\n",
              "(function(scope) {\n",
              "function span(text, styleAttributes = {}) {\n",
              "  const element = document.createElement('span');\n",
              "  element.textContent = text;\n",
              "  for (const key of Object.keys(styleAttributes)) {\n",
              "    element.style[key] = styleAttributes[key];\n",
              "  }\n",
              "  return element;\n",
              "}\n",
              "\n",
              "// Max number of bytes which will be uploaded at a time.\n",
              "const MAX_PAYLOAD_SIZE = 100 * 1024;\n",
              "\n",
              "function _uploadFiles(inputId, outputId) {\n",
              "  const steps = uploadFilesStep(inputId, outputId);\n",
              "  const outputElement = document.getElementById(outputId);\n",
              "  // Cache steps on the outputElement to make it available for the next call\n",
              "  // to uploadFilesContinue from Python.\n",
              "  outputElement.steps = steps;\n",
              "\n",
              "  return _uploadFilesContinue(outputId);\n",
              "}\n",
              "\n",
              "// This is roughly an async generator (not supported in the browser yet),\n",
              "// where there are multiple asynchronous steps and the Python side is going\n",
              "// to poll for completion of each step.\n",
              "// This uses a Promise to block the python side on completion of each step,\n",
              "// then passes the result of the previous step as the input to the next step.\n",
              "function _uploadFilesContinue(outputId) {\n",
              "  const outputElement = document.getElementById(outputId);\n",
              "  const steps = outputElement.steps;\n",
              "\n",
              "  const next = steps.next(outputElement.lastPromiseValue);\n",
              "  return Promise.resolve(next.value.promise).then((value) => {\n",
              "    // Cache the last promise value to make it available to the next\n",
              "    // step of the generator.\n",
              "    outputElement.lastPromiseValue = value;\n",
              "    return next.value.response;\n",
              "  });\n",
              "}\n",
              "\n",
              "/**\n",
              " * Generator function which is called between each async step of the upload\n",
              " * process.\n",
              " * @param {string} inputId Element ID of the input file picker element.\n",
              " * @param {string} outputId Element ID of the output display.\n",
              " * @return {!Iterable<!Object>} Iterable of next steps.\n",
              " */\n",
              "function* uploadFilesStep(inputId, outputId) {\n",
              "  const inputElement = document.getElementById(inputId);\n",
              "  inputElement.disabled = false;\n",
              "\n",
              "  const outputElement = document.getElementById(outputId);\n",
              "  outputElement.innerHTML = '';\n",
              "\n",
              "  const pickedPromise = new Promise((resolve) => {\n",
              "    inputElement.addEventListener('change', (e) => {\n",
              "      resolve(e.target.files);\n",
              "    });\n",
              "  });\n",
              "\n",
              "  const cancel = document.createElement('button');\n",
              "  inputElement.parentElement.appendChild(cancel);\n",
              "  cancel.textContent = 'Cancel upload';\n",
              "  const cancelPromise = new Promise((resolve) => {\n",
              "    cancel.onclick = () => {\n",
              "      resolve(null);\n",
              "    };\n",
              "  });\n",
              "\n",
              "  // Wait for the user to pick the files.\n",
              "  const files = yield {\n",
              "    promise: Promise.race([pickedPromise, cancelPromise]),\n",
              "    response: {\n",
              "      action: 'starting',\n",
              "    }\n",
              "  };\n",
              "\n",
              "  cancel.remove();\n",
              "\n",
              "  // Disable the input element since further picks are not allowed.\n",
              "  inputElement.disabled = true;\n",
              "\n",
              "  if (!files) {\n",
              "    return {\n",
              "      response: {\n",
              "        action: 'complete',\n",
              "      }\n",
              "    };\n",
              "  }\n",
              "\n",
              "  for (const file of files) {\n",
              "    const li = document.createElement('li');\n",
              "    li.append(span(file.name, {fontWeight: 'bold'}));\n",
              "    li.append(span(\n",
              "        `(${file.type || 'n/a'}) - ${file.size} bytes, ` +\n",
              "        `last modified: ${\n",
              "            file.lastModifiedDate ? file.lastModifiedDate.toLocaleDateString() :\n",
              "                                    'n/a'} - `));\n",
              "    const percent = span('0% done');\n",
              "    li.appendChild(percent);\n",
              "\n",
              "    outputElement.appendChild(li);\n",
              "\n",
              "    const fileDataPromise = new Promise((resolve) => {\n",
              "      const reader = new FileReader();\n",
              "      reader.onload = (e) => {\n",
              "        resolve(e.target.result);\n",
              "      };\n",
              "      reader.readAsArrayBuffer(file);\n",
              "    });\n",
              "    // Wait for the data to be ready.\n",
              "    let fileData = yield {\n",
              "      promise: fileDataPromise,\n",
              "      response: {\n",
              "        action: 'continue',\n",
              "      }\n",
              "    };\n",
              "\n",
              "    // Use a chunked sending to avoid message size limits. See b/62115660.\n",
              "    let position = 0;\n",
              "    do {\n",
              "      const length = Math.min(fileData.byteLength - position, MAX_PAYLOAD_SIZE);\n",
              "      const chunk = new Uint8Array(fileData, position, length);\n",
              "      position += length;\n",
              "\n",
              "      const base64 = btoa(String.fromCharCode.apply(null, chunk));\n",
              "      yield {\n",
              "        response: {\n",
              "          action: 'append',\n",
              "          file: file.name,\n",
              "          data: base64,\n",
              "        },\n",
              "      };\n",
              "\n",
              "      let percentDone = fileData.byteLength === 0 ?\n",
              "          100 :\n",
              "          Math.round((position / fileData.byteLength) * 100);\n",
              "      percent.textContent = `${percentDone}% done`;\n",
              "\n",
              "    } while (position < fileData.byteLength);\n",
              "  }\n",
              "\n",
              "  // All done.\n",
              "  yield {\n",
              "    response: {\n",
              "      action: 'complete',\n",
              "    }\n",
              "  };\n",
              "}\n",
              "\n",
              "scope.google = scope.google || {};\n",
              "scope.google.colab = scope.google.colab || {};\n",
              "scope.google.colab._files = {\n",
              "  _uploadFiles,\n",
              "  _uploadFilesContinue,\n",
              "};\n",
              "})(self);\n",
              "</script> "
            ]
          },
          "metadata": {}
        },
        {
          "output_type": "stream",
          "name": "stdout",
          "text": [
            "Saving file1.txt to file1.txt\n",
            "It is no doubt that Data Engineering opens up lots of opportunities for one’s career.\n"
          ]
        }
      ]
    },
    {
      "cell_type": "markdown",
      "source": [
        "## 12. Program to list all the file in the directory\n"
      ],
      "metadata": {
        "id": "ovYWZKNH3AH_"
      }
    },
    {
      "cell_type": "code",
      "source": [
        "import os\n",
        "file_list = os.listdir(cd)\n",
        "print(\"Files in the directory:\")\n",
        "print(file_list)"
      ],
      "metadata": {
        "id": "S260xGwo38vk",
        "colab": {
          "base_uri": "https://localhost:8080/"
        },
        "outputId": "9c832297-cd7b-41d0-ec14-408a4c45d7a5"
      },
      "execution_count": 70,
      "outputs": [
        {
          "output_type": "stream",
          "name": "stdout",
          "text": [
            "Files in the directory:\n",
            "['.config', 'file3.txt', 'file1 (1).txt', 'file1.txt', 'file1 (2).txt', 'wallpaper-laptop.jpg', 'file1 (4).txt', 'Mobile.jpg', 'file2.txt', 'sample_data']\n"
          ]
        }
      ]
    },
    {
      "cell_type": "markdown",
      "source": [
        "## 13. program to find the name of list only the text file and only the image file specifically\n"
      ],
      "metadata": {
        "id": "pNalRqq-3mjE"
      }
    },
    {
      "cell_type": "code",
      "source": [
        "text_files_list=[]\n",
        "img_files_list=[]\n",
        "for i in file_list:\n",
        "  if 'txt' in i:\n",
        "    text_files_list.append(i)\n",
        "  elif 'jpg' in i:\n",
        "    img_files_list.append(i)\n",
        "print(\"Total files list: \",file_list)\n",
        "print(\"Text files list \",text_files_list)\n",
        "print(\"image files list \",img_files_list)"
      ],
      "metadata": {
        "colab": {
          "base_uri": "https://localhost:8080/"
        },
        "id": "IPCZGZvYVlgn",
        "outputId": "37b01690-0b7c-4c3b-d80a-d69803b7a4bd"
      },
      "execution_count": 71,
      "outputs": [
        {
          "output_type": "stream",
          "name": "stdout",
          "text": [
            "Total files list:  ['.config', 'file3.txt', 'file1 (1).txt', 'file1.txt', 'file1 (2).txt', 'wallpaper-laptop.jpg', 'file1 (4).txt', 'Mobile.jpg', 'file2.txt', 'sample_data']\n",
            "Text files list  ['file3.txt', 'file1 (1).txt', 'file1.txt', 'file1 (2).txt', 'file1 (4).txt', 'file2.txt']\n",
            "image files list  ['wallpaper-laptop.jpg', 'Mobile.jpg']\n"
          ]
        }
      ]
    },
    {
      "cell_type": "markdown",
      "source": [
        "## 14. Program to copy the the file and also the bundle of file to the specific location"
      ],
      "metadata": {
        "id": "7xVL49o739jv"
      }
    },
    {
      "cell_type": "code",
      "source": [
        "file1=open(\"file1.txt\",\"r\")\n",
        "file2=open(\"file1.txt\",\"w\")\n",
        "for i in file1:\n",
        "  file2.write(i)\n",
        "file3=open(\"file2.txt\",\"r\")\n",
        "print(file3.read())"
      ],
      "metadata": {
        "id": "rlMl6YVH4I_z",
        "colab": {
          "base_uri": "https://localhost:8080/"
        },
        "outputId": "4f0cdc99-e9d4-4bf4-e3ac-952981604414"
      },
      "execution_count": 85,
      "outputs": [
        {
          "output_type": "stream",
          "name": "stdout",
          "text": [
            "Hi! This is a file handling TechniquesIt is no doubt that Data Engineering opens up lots of opportunities for one’s careerIt is no doubt that Data Engineering opens up lots of opportunities for one’s career\n"
          ]
        }
      ]
    },
    {
      "cell_type": "markdown",
      "source": [
        "## 15. Program to delete the specific file and folder"
      ],
      "metadata": {
        "id": "rzaMo5ZT4E7R"
      }
    },
    {
      "cell_type": "code",
      "source": [
        "print(file_list)"
      ],
      "metadata": {
        "colab": {
          "base_uri": "https://localhost:8080/"
        },
        "id": "PIbK2xPgU6FY",
        "outputId": "3107d6fe-e117-44cf-bfb7-4a66f70847ee"
      },
      "execution_count": 83,
      "outputs": [
        {
          "output_type": "stream",
          "name": "stdout",
          "text": [
            "['.config', 'file3.txt', 'file1 (1).txt', 'file1.txt', 'file1 (2).txt', 'wallpaper-laptop.jpg', 'file1 (4).txt', 'Mobile.jpg', 'file2.txt', 'sample_data']\n"
          ]
        }
      ]
    },
    {
      "cell_type": "code",
      "source": [
        "os.remove(\"file1 (1).txt\")\n",
        "print(os.listdir())"
      ],
      "metadata": {
        "id": "Gpw4a5194oaa",
        "colab": {
          "base_uri": "https://localhost:8080/"
        },
        "outputId": "01423ec0-7c21-4b18-8d67-e7959ef10e53"
      },
      "execution_count": 82,
      "outputs": [
        {
          "output_type": "stream",
          "name": "stdout",
          "text": [
            "['.config', 'file1.txt', 'wallpaper-laptop.jpg', 'file1 (4).txt', 'Mobile.jpg', 'file2.txt', 'sample_data']\n"
          ]
        }
      ]
    },
    {
      "cell_type": "markdown",
      "source": [],
      "metadata": {
        "id": "O2PS1zXT4pF5"
      }
    }
  ]
}
