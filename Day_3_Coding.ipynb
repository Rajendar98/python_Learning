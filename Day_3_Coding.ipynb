{
  "nbformat": 4,
  "nbformat_minor": 0,
  "metadata": {
    "colab": {
      "provenance": [],
      "include_colab_link": true
    },
    "kernelspec": {
      "name": "python3",
      "display_name": "Python 3"
    },
    "language_info": {
      "name": "python"
    }
  },
  "cells": [
    {
      "cell_type": "markdown",
      "metadata": {
        "id": "view-in-github",
        "colab_type": "text"
      },
      "source": [
        "<a href=\"https://colab.research.google.com/github/Rajendar98/python_Learning/blob/main/Day_3_Coding.ipynb\" target=\"_parent\"><img src=\"https://colab.research.google.com/assets/colab-badge.svg\" alt=\"Open In Colab\"/></a>"
      ]
    },
    {
      "cell_type": "markdown",
      "source": [],
      "metadata": {
        "id": "KZ91_NegViLz"
      }
    },
    {
      "cell_type": "markdown",
      "source": [
        "## problem 1\n",
        "Create a dictionary where the keys correspond to the area of a flat adn value for each is the price of the house for 10 flat in kompally"
      ],
      "metadata": {
        "id": "B1Fhdmi9V3LI"
      }
    },
    {
      "cell_type": "code",
      "source": [
        "# Dictionary of house area and house prices of 10 houses in\n",
        "# HInt: area_price = {area:price}\n",
        "area_price={\n",
        "    'Flt1': {'Area': 1000, 'Price': 100000},\n",
        "    'Flt2': {'Area': 1200, 'Price': 120000},\n",
        "    'Flt3': {'Area': 950, 'Price': 95000},\n",
        "    'Flt4': {'Area': 1500, 'Price': 150000},\n",
        "    'Flt5': {'Area': 800, 'Price': 80000},\n",
        "    'Flt6': {'Area': 1100, 'Price': 110000},\n",
        "    'Flt7': {'Area': 1300, 'Price': 130000},\n",
        "    'Flt8': {'Area': 900, 'Price': 90000},\n",
        "    'Flt9': {'Area': 1150, 'Price': 115000},\n",
        "    'Flt10': {'Area': 1350, 'Price': 135000}\n",
        "}\n",
        "for k,v in area_price.items():\n",
        "  print(k,\"Area-\",v['Area'],\"Price-\",v['Price'])"
      ],
      "metadata": {
        "id": "zihWmw3NWXQX",
        "colab": {
          "base_uri": "https://localhost:8080/"
        },
        "outputId": "18261ed0-e8ae-4978-83fa-6ccdb6703dea"
      },
      "execution_count": null,
      "outputs": [
        {
          "output_type": "stream",
          "name": "stdout",
          "text": [
            "Flt1 Area- 1000 Price- 100000\n",
            "Flt2 Area- 1200 Price- 120000\n",
            "Flt3 Area- 950 Price- 95000\n",
            "Flt4 Area- 1500 Price- 150000\n",
            "Flt5 Area- 800 Price- 80000\n",
            "Flt6 Area- 1100 Price- 110000\n",
            "Flt7 Area- 1300 Price- 130000\n",
            "Flt8 Area- 900 Price- 90000\n",
            "Flt9 Area- 1150 Price- 115000\n",
            "Flt10 Area- 1350 Price- 135000\n"
          ]
        }
      ]
    },
    {
      "cell_type": "markdown",
      "source": [
        "### Now broker predicts the price as can be written as : <b><code>predicted_price(area) = 0.06*area + 15</code></b>"
      ],
      "metadata": {
        "id": "JI2jaDf8Wp2D"
      }
    },
    {
      "cell_type": "markdown",
      "source": [
        "Using the concept of list comprehension,create a list of predicted flat price using the above formula\n"
      ],
      "metadata": {
        "id": "v_K_Z8dtW6-D"
      }
    },
    {
      "cell_type": "code",
      "source": [
        "# Create a list of house areas\n",
        "House_area_list=[1000,1200,950,1500,800,1100,1300,900,1150,1350]\n",
        "# Use list comprehension to store the predicted house prices in a list\n",
        "Predicted_price_list=[0.06*area+15 for area in House_area_list]\n",
        "# Print the list of predicted flat prices\n",
        "print(\"Predicted_price_list\",Predicted_price_list)\n"
      ],
      "metadata": {
        "id": "F732P6DHXVYH",
        "colab": {
          "base_uri": "https://localhost:8080/"
        },
        "outputId": "67ac3961-de75-4278-f94a-4bd09a5bccd3"
      },
      "execution_count": null,
      "outputs": [
        {
          "output_type": "stream",
          "name": "stdout",
          "text": [
            "Predicted_price_list [75.0, 87.0, 72.0, 105.0, 63.0, 81.0, 93.0, 69.0, 84.0, 96.0]\n"
          ]
        }
      ]
    },
    {
      "cell_type": "markdown",
      "source": [
        "## Create another list which contains the squares of differences of each element of the two price lists : the actual prices and the predicted prices\n"
      ],
      "metadata": {
        "id": "-ZrRO78DXZq6"
      }
    },
    {
      "cell_type": "code",
      "source": [
        "Actual_list=[100,200,220,300]\n",
        "predicted_list=[75,87,72,105]\n",
        "l1=[(i[0]**2-i[1]**2) for i in zip(Actual_list,predicted_list)]\n",
        "print(l1)"
      ],
      "metadata": {
        "id": "dEpxZqK7XzeD",
        "colab": {
          "base_uri": "https://localhost:8080/"
        },
        "outputId": "237ab060-c35f-45ca-ffda-be591fb384a8"
      },
      "execution_count": null,
      "outputs": [
        {
          "output_type": "stream",
          "name": "stdout",
          "text": [
            "[4375, 32431, 43216, 78975]\n"
          ]
        }
      ]
    },
    {
      "cell_type": "markdown",
      "source": [
        "## <u> Problem 2</u>\n",
        "\n",
        "## A sigmoid function is a mathematical function having a characteristic \"S\"-shaped curve or sigmoid curve. A common example of a sigmoid function is the logistic function shown in the first figure and defined by the formula:\n",
        "\n",
        "$$ h(x) =  \\frac{\\mathrm{1} }{\\mathrm{1} + e^{-x} }  $$\n",
        "\n",
        "\n",
        "## Range is defined as all the possible values which the function $h(x)$ can take. Domain is defined as all the possible values which $x$ can take. In this case, range of the function is between 0 to 1 and the domain of the function is all real numbers"
      ],
      "metadata": {
        "id": "PEC_OtXRXrCg"
      }
    },
    {
      "cell_type": "markdown",
      "source": [
        "### You are given a list of values of $x$. You need to use list comprehension to calculate the corresponding transformation according to the sigmoid function defined above"
      ],
      "metadata": {
        "id": "YZCTres_XsB0"
      }
    },
    {
      "cell_type": "code",
      "source": [
        "# Return a list of boolean values if the sigmoid_of_x is greater than or equal to 0 and less than or equal to 1\n",
        "import math\n",
        "l=[1,2,3,4,5,6]\n",
        "s=[1/(1+math.exp(-x)) for x in l]\n",
        "print(\"Original list:\",l)\n",
        "print(\"Sigmoid function list\",s)\n",
        "# Create a list of those values which are greater than 0.5"
      ],
      "metadata": {
        "id": "TmYb4SluYC4S",
        "colab": {
          "base_uri": "https://localhost:8080/"
        },
        "outputId": "bb7d32b6-8a22-4c1c-a8a2-cade3430c65d"
      },
      "execution_count": null,
      "outputs": [
        {
          "output_type": "stream",
          "name": "stdout",
          "text": [
            "Original list: [1, 2, 3, 4, 5, 6]\n",
            "Sigmoid function list [0.7310585786300049, 0.8807970779778823, 0.9525741268224334, 0.9820137900379085, 0.9933071490757153, 0.9975273768433653]\n"
          ]
        }
      ]
    },
    {
      "cell_type": "markdown",
      "source": [
        "# <u> Problem 3</u>\n",
        "\n",
        "## You are given a sentence : <code>\"I have been walking and running and dancing and smiling and laughing all my life, yet it all seems pointless. So i stoped thinking and started doing\"</code>\n",
        "\n",
        "## You are required to extract all those words from this sentence in a list which ends with <code>ing</code>"
      ],
      "metadata": {
        "id": "j31JnVUtYNU-"
      }
    },
    {
      "cell_type": "code",
      "source": [
        "my_sentence=\"I have been walking and running and dancing and smiling and laughing all my life, yet it all seems pointless. So i stoped thinking and started doing\"\n",
        "ind=0\n",
        "l=[]\n",
        "for i in range(len(my_sentence)):\n",
        "    if my_sentence[i]==\" \":\n",
        "        if \"ing\" in my_sentence[ind:i]:\n",
        "            l.append(my_sentence[ind:i])\n",
        "        ind=i\n",
        "if my_sentence[ind]==\" \":\n",
        "    if \"ing\" in my_sentence[ind:len(my_sentence)]:\n",
        "            l.append(my_sentence[ind:len(my_sentence)])\n",
        "print(\"list is:\",l)"
      ],
      "metadata": {
        "id": "8s6rFnH2YO1z",
        "colab": {
          "base_uri": "https://localhost:8080/"
        },
        "outputId": "b64c7381-2fa2-4676-e75c-906f8acc8826"
      },
      "execution_count": null,
      "outputs": [
        {
          "output_type": "stream",
          "name": "stdout",
          "text": [
            "list is: [' walking', ' running', ' dancing', ' smiling', ' laughing', ' thinking', ' doing']\n"
          ]
        }
      ]
    },
    {
      "cell_type": "markdown",
      "source": [
        "# <u> Problem 4</u>\n",
        "\n",
        "#### Natural Language Processing or NLP is one of the most promising fields in Machine Learning. Most of the times in NLP we deal with the textual data (a bunch of strings). Sometimes when we are processing the text, it is a common practice to get rid of some set of stop words from our original text. By default stop words are very common words used in English language such as and, or, punctuations etc.\n",
        "\n",
        "#### In this exercise, you are provided with a default set of stop words and you need to add some extra set of custom words and remove these words from the given sentence and obtain the sentence without the stop words"
      ],
      "metadata": {
        "id": "rYwInhGlYOyz"
      }
    },
    {
      "cell_type": "code",
      "source": [
        "# A sample sentence\n",
        "s=\"Natural Language Processing or NLP is one of the most promising fields in Machine Learning. Most of the times in NLP we deal with the textual data a bunch of strings\"\n",
        "# Print your sentence"
      ],
      "metadata": {
        "id": "b86yHqHEYOpp"
      },
      "execution_count": null,
      "outputs": []
    },
    {
      "cell_type": "code",
      "source": [
        "# Default set of stop words\n",
        "stop_words = {\"i\", \"me\", \"my\", \"myself\", \"we\", \"our\", \"ours\", \"ourselves\", \"you\", \"your\", \"yours\", \"yourself\",\n",
        "              \"yourselves\", \"he\", \"him\", \"his\", \"himself\", \"she\", \"her\", \"hers\", \"herself\", \"it\", \"its\", \"itself\",\n",
        "              \"they\", \"them\", \"their\", \"theirs\", \"themselves\", \"what\", \"which\", \"who\", \"whom\", \"this\", \"that\",\n",
        "              \"these\", \"those\", \"am\", \"is\", \"are\", \"was\", \"were\", \"be\", \"been\", \"being\", \"have\", \"has\", \"had\",\n",
        "              \"having\", \"do\", \"does\", \"did\", \"doing\", \"a\", \"an\", \"the\", \"and\", \"but\", \"if\", \"or\", \"because\",\n",
        "              \"as\", \"until\", \"while\", \"of\", \"at\", \"by\", \"for\", \"with\", \"about\", \"against\", \"between\", \"into\",\n",
        "              \"through\", \"during\", \"before\", \"after\", \"above\", \"below\", \"to\", \"from\", \"up\", \"down\", \"in\", \"out\",\n",
        "              \"on\", \"off\", \"over\", \"under\", \"again\", \"further\", \"then\", \"once\", \"here\", \"there\", \"when\", \"where\",\n",
        "              \"why\", \"how\", \"all\", \"any\", \"both\", \"each\", \"few\", \"more\", \"most\", \"other\", \"some\", \"such\", \"no\",\n",
        "              \"nor\", \"not\", \"only\", \"own\", \"same\", \"so\", \"than\", \"too\", \"very\", \"s\", \"t\", \"can\", \"will\", \"just\",\n",
        "              \"don\", \"should\", \"now\"}"
      ],
      "metadata": {
        "id": "RbyJscXWYh0z"
      },
      "execution_count": null,
      "outputs": []
    },
    {
      "cell_type": "code",
      "source": [
        "custom_stop_words = [\"hello\",\"folks\",\"good\",\"morning\",\"half\",\"year\"]\n",
        "# Update the set of stop words by adding the custom stop words\n",
        "d=set(custom_stop_words)\n",
        "all=d | stop_words"
      ],
      "metadata": {
        "id": "JCZ3mWDEYplT"
      },
      "execution_count": null,
      "outputs": []
    },
    {
      "cell_type": "code",
      "source": [
        "# Create the list of words in the given sentence.\n",
        "l=s.split()"
      ],
      "metadata": {
        "id": "OG_iCUm9Yyx3"
      },
      "execution_count": null,
      "outputs": []
    },
    {
      "cell_type": "code",
      "source": [
        "# Use list comprehension to remove the set of updated stop words from the list of words\n",
        "out=[i for i in l if i not in all]"
      ],
      "metadata": {
        "id": "Kk665UtXY3UH"
      },
      "execution_count": null,
      "outputs": []
    },
    {
      "cell_type": "code",
      "source": [
        "# Finally using the join() method, get the sentence without the stop words. Keep in mind that every word in the sentence will be separated by space\n",
        "result=\" \".join(out)\n",
        "# Print the modified sentence\n",
        "print(result)"
      ],
      "metadata": {
        "id": "RzO-jDZVY6wD",
        "colab": {
          "base_uri": "https://localhost:8080/"
        },
        "outputId": "425f9a78-5991-47e0-e600-38543e12dd86"
      },
      "execution_count": null,
      "outputs": [
        {
          "output_type": "stream",
          "name": "stdout",
          "text": [
            "Natural Language Processing NLP one promising fields Machine Learning. Most times NLP deal textual data bunch strings\n"
          ]
        }
      ]
    }
  ]
}