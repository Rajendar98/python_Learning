{
  "nbformat": 4,
  "nbformat_minor": 0,
  "metadata": {
    "colab": {
      "provenance": [],
      "include_colab_link": true
    },
    "kernelspec": {
      "name": "python3",
      "display_name": "Python 3"
    },
    "language_info": {
      "name": "python"
    }
  },
  "cells": [
    {
      "cell_type": "markdown",
      "metadata": {
        "id": "view-in-github",
        "colab_type": "text"
      },
      "source": [
        "<a href=\"https://colab.research.google.com/github/Rajendar98/python_Learning/blob/main/Day_2_coding.ipynb\" target=\"_parent\"><img src=\"https://colab.research.google.com/assets/colab-badge.svg\" alt=\"Open In Colab\"/></a>"
      ]
    },
    {
      "cell_type": "markdown",
      "source": [
        "## 1.Difference between the list and tuple?"
      ],
      "metadata": {
        "id": "HN6tCq60j2mQ"
      }
    },
    {
      "cell_type": "code",
      "source": [
        "s=tuple(map(int,input().split()))\n",
        "print(\"display the tuple elements\",s) #tuple is immutable data type\n",
        "print(type(s))                        #In tuple is dipplay in Curly barckets-->()\n",
        "\n",
        "x=list(map(int,input().split()))\n",
        "print(\"Display the list elemnts\",x)   #List is a mutable Data types\n",
        "print(type(x))                        #In List is dipplay in Square barckets-->[]"
      ],
      "metadata": {
        "id": "Cw8ffkhMk6RQ",
        "colab": {
          "base_uri": "https://localhost:8080/"
        },
        "outputId": "3b32945b-9c6c-4125-e6fd-1a751619f4ac"
      },
      "execution_count": null,
      "outputs": [
        {
          "output_type": "stream",
          "name": "stdout",
          "text": [
            "1 2 3 4 5\n",
            "display the tuple elements (1, 2, 3, 4, 5)\n",
            "<class 'tuple'>\n",
            "2 3 4 5 6\n",
            "Display the list elemnts [2, 3, 4, 5, 6]\n",
            "<class 'list'>\n"
          ]
        }
      ]
    },
    {
      "cell_type": "markdown",
      "source": [
        "## 2.How list is different from an array"
      ],
      "metadata": {
        "id": "uWhJG7hzk6Ov"
      }
    },
    {
      "cell_type": "code",
      "source": [
        "import numpy as np\n",
        "l1=[1,2,3,\"raj\",True,5,6]   #Heterogenous Data type are stored\n",
        "print(\"list of elements\",l1)\n",
        "arr=np.array([1,2,3,4,5,6])     #Homogenous type are stored\n",
        "print(\"Array elements are: \",arr)"
      ],
      "metadata": {
        "id": "MowyCcINo4Mn",
        "colab": {
          "base_uri": "https://localhost:8080/"
        },
        "outputId": "4fdf932d-307b-4206-a490-318751f0bb5b"
      },
      "execution_count": null,
      "outputs": [
        {
          "output_type": "stream",
          "name": "stdout",
          "text": [
            "list of elements [1, 2, 3, 'raj', True, 5, 6]\n",
            "Array elements are:  [2 3 4 5]\n"
          ]
        }
      ]
    },
    {
      "cell_type": "markdown",
      "source": [
        "## 3. Use the python list append(),copy(), clear, count, extends(), index(), insert(), pop(), reverse(), sort(), min(), max(),and sum()"
      ],
      "metadata": {
        "id": "_0Rn7JQSk6M1"
      }
    },
    {
      "cell_type": "code",
      "source": [
        "l1=list(map(int,input(\"enter the elements: \").split()))\n",
        "print(\"list elemnets\",l1)\n",
        "l1.append(int(input(\"enter any number:\")))\n",
        "print(\"after appending the element\",l1)\n",
        "l2=l1.copy()\n",
        "print(\"copy to new new list l2 is:\",l2)\n",
        "l2.clear()\n",
        "print(\"after clearing the l2 is:\",l2)\n",
        "cnt=l1.count(int(input(\"enter a number is present in l1: \")))\n",
        "print(\"Number of times is repeated in l1: \",cnt)\n",
        "print(\"maximum element in l1 is:\",max(l1))\n",
        "print(\"Minimum element in l1 is:\",min(l1))\n",
        "print(\"sum of l1 element is:\",sum(l1))\n",
        "print(\"After sorting the elements\",sorted(l1))\n",
        "print(\"reversed the elements in l1 is:\",list(reversed(l1)))\n",
        "print(\"insert the any number in list\")\n",
        "l1.insert(1,250)\n",
        "print(\"Inserting the element in l1 \",l1)\n",
        "print(\"Index the element is:\",l1.index(250))\n",
        "print(\"extends the l1 with k\")\n",
        "print(\"l1 elements before extending\",l1)\n",
        "k=[10,20,30]\n",
        "l1.extend(k)\n",
        "print(l1)\n",
        "print(\"pop the elements:\",l1.pop(0))\n"
      ],
      "metadata": {
        "colab": {
          "base_uri": "https://localhost:8080/"
        },
        "id": "XyLJhZ9tOOVk",
        "outputId": "fb077895-a094-4e4e-b097-ad2e91b548a8"
      },
      "execution_count": 145,
      "outputs": [
        {
          "output_type": "stream",
          "name": "stdout",
          "text": [
            "enter the elements: 1 1 1 2 3 4 4 4 4 4 5 6\n",
            "list elemnets [1, 1, 1, 2, 3, 4, 4, 4, 4, 4, 5, 6]\n",
            "enter any number:1234\n",
            "after appending the element [1, 1, 1, 2, 3, 4, 4, 4, 4, 4, 5, 6, 1234]\n",
            "copy to new new list l2 is: [1, 1, 1, 2, 3, 4, 4, 4, 4, 4, 5, 6, 1234]\n",
            "after clearing the l2 is: []\n",
            "enter a number is present in l1: 4\n",
            "Number of times is repeated in l1:  5\n",
            "maximum element in l1 is: 1234\n",
            "Minimum element in l1 is: 1\n",
            "sum of l1 element is: 1273\n",
            "After sorting the elements [1, 1, 1, 2, 3, 4, 4, 4, 4, 4, 5, 6, 1234]\n",
            "reversed the elements in l1 is: [1234, 6, 5, 4, 4, 4, 4, 4, 3, 2, 1, 1, 1]\n",
            "insert the any number in list\n",
            "Inserting the element in l1  [1, 250, 1, 1, 2, 3, 4, 4, 4, 4, 4, 5, 6, 1234]\n",
            "Index the element is: 1\n",
            "extends the l1 with k\n",
            "l1 elements before extending [1, 250, 1, 1, 2, 3, 4, 4, 4, 4, 4, 5, 6, 1234]\n",
            "[1, 250, 1, 1, 2, 3, 4, 4, 4, 4, 4, 5, 6, 1234, 10, 20, 30]\n",
            "pop the elements: 1\n"
          ]
        }
      ]
    },
    {
      "cell_type": "markdown",
      "source": [
        "## 4, How would you divide the list into two parts?"
      ],
      "metadata": {
        "id": "W9xfjUWak6J_"
      }
    },
    {
      "cell_type": "code",
      "source": [
        "l1=[1,2,3,4,5,6,7,8,9]\n",
        "fst_hf=l1[0:len(l1)//2]\n",
        "secnd_hf=l1[len(l1)//2::]\n",
        "print(\"first half\",fst_hf)\n",
        "print(\"second half\",secnd_hf)"
      ],
      "metadata": {
        "colab": {
          "base_uri": "https://localhost:8080/"
        },
        "id": "SLzaE71uW2LA",
        "outputId": "a5378a90-b47c-4187-ec32-c62e5528ee09"
      },
      "execution_count": 141,
      "outputs": [
        {
          "output_type": "stream",
          "name": "stdout",
          "text": [
            "first half [1, 2, 3, 4]\n",
            "second half [5, 6, 7, 8, 9]\n"
          ]
        }
      ]
    },
    {
      "cell_type": "markdown",
      "source": [
        "## 5. how to filter the multiple of 3 from a given list and them remove the odd number from the new filtered list.\n",
        "Eg A = [1,2,3,4,5,6,7,8,9,21,23,24]\n",
        "Filter_lsit = [3,6,9,21,24]\n",
        "output_list = [6,24]"
      ],
      "metadata": {
        "id": "Qb1mVGfnk6G5"
      }
    },
    {
      "cell_type": "code",
      "source": [
        "l=list(map(int,input(\"enetr list elements: \").split()))\n",
        "outputlist=[]\n",
        "for i in l:\n",
        "  if i%3==0 and i%2==0:\n",
        "    outputlist.append(i)\n",
        "print(\"the filtered list is:\",outputlist)"
      ],
      "metadata": {
        "colab": {
          "base_uri": "https://localhost:8080/"
        },
        "id": "-ic4H-WtYK6W",
        "outputId": "b8271f1e-2558-4480-dd49-06d638bd4f79"
      },
      "execution_count": null,
      "outputs": [
        {
          "output_type": "stream",
          "name": "stdout",
          "text": [
            "enetr list elements: 1 2 3 4 5 6 7 24 30 60\n",
            "the filtered list is: [6, 24, 30, 60]\n"
          ]
        }
      ]
    },
    {
      "cell_type": "markdown",
      "source": [
        "## 6. How you can access keys and values simultaneously and update its value"
      ],
      "metadata": {
        "id": "auhYyjixk6FD"
      }
    },
    {
      "cell_type": "code",
      "source": [
        "d1={1:4,2:3,3:6,4:8}\n",
        "print(\"Dictionary is :\",d1)\n",
        "for keys,values in d1.items():\n",
        "  print(keys,values)"
      ],
      "metadata": {
        "colab": {
          "base_uri": "https://localhost:8080/"
        },
        "id": "KYpveBVbZwHE",
        "outputId": "44680415-8c67-438f-9e40-e8d6d428df13"
      },
      "execution_count": 142,
      "outputs": [
        {
          "output_type": "stream",
          "name": "stdout",
          "text": [
            "Dictionary is : {1: 4, 2: 3, 3: 6, 4: 8}\n",
            "1 4\n",
            "2 3\n",
            "3 6\n",
            "4 8\n"
          ]
        }
      ]
    },
    {
      "cell_type": "markdown",
      "source": [
        "## 7. Write python program to join, merge, concatente the two dictionaries..\n"
      ],
      "metadata": {
        "id": "vV00n0awk5_G"
      }
    },
    {
      "cell_type": "code",
      "source": [
        "d1={1:\"one\",2:\"two\",3:\"three\",4:\"four\"}\n",
        "d2={5:\"Five\",6:\"six\",7:\"seven\",8:\"eight\"}\n",
        "d1.update(d2)\n",
        "print(\"Concatination the dictionary \",d1)"
      ],
      "metadata": {
        "colab": {
          "base_uri": "https://localhost:8080/"
        },
        "id": "afZfGTIiaNPU",
        "outputId": "dabc8b0b-b74d-44e7-8933-53b440f11413"
      },
      "execution_count": null,
      "outputs": [
        {
          "output_type": "stream",
          "name": "stdout",
          "text": [
            "Concatination the dictionary  {1: 'one', 2: 'two', 3: 'three', 4: 'four', 5: 'Five', 6: 'six', 7: 'seven', 8: 'eight'}\n"
          ]
        }
      ]
    },
    {
      "cell_type": "markdown",
      "source": [
        "## 8. How would you check a specific keys from the dictionary??\n"
      ],
      "metadata": {
        "id": "Z_7dpypWnQ-z"
      }
    },
    {
      "cell_type": "code",
      "source": [
        "d1={1:\"one\",2:\"two\",3:\"three\",4:\"four\"}\n",
        "checking_specific_key=int(input(\"Enter a specifc key number to find in dictionary: \"))\n",
        "f=0\n",
        "for i in d1:\n",
        "  if i==checking_specific_key:\n",
        "    print(\"key present in dictionary\")\n",
        "    f=1\n",
        "if f==0:\n",
        "  print(\"Key is not present dictionary\")"
      ],
      "metadata": {
        "colab": {
          "base_uri": "https://localhost:8080/"
        },
        "id": "RtnIGgqYa1Mf",
        "outputId": "30fcd81c-566a-4a24-e417-46579daf249f"
      },
      "execution_count": null,
      "outputs": [
        {
          "output_type": "stream",
          "name": "stdout",
          "text": [
            "Enter a specifc key number to find in dictionary: 3\n",
            "key present in dictionary\n"
          ]
        }
      ]
    },
    {
      "cell_type": "markdown",
      "source": [
        "## 9. write a python program to find the unique vowel present in the sentence"
      ],
      "metadata": {
        "id": "EjxeB4ntnirH"
      }
    },
    {
      "cell_type": "code",
      "source": [
        "s=\"my name is rajendar\"\n",
        "l=[\"a\",\"e\",\"i\",\"o\",\"u\"]\n",
        "l1=[]\n",
        "print(\"Unique vowels are present in Sentence: \",s)\n",
        "for i in s:\n",
        "  if i.lower() in l and i.lower() not in l1:\n",
        "    l1.append(i)\n",
        "    print(i,end=\" \")"
      ],
      "metadata": {
        "id": "LgV7-oDG6_6i",
        "colab": {
          "base_uri": "https://localhost:8080/"
        },
        "outputId": "9e3612be-6359-4d88-d572-ea500b363501"
      },
      "execution_count": 147,
      "outputs": [
        {
          "output_type": "stream",
          "name": "stdout",
          "text": [
            "Unique vowels are present in Sentence:  my name is rajendar\n",
            "a e i "
          ]
        }
      ]
    },
    {
      "cell_type": "markdown",
      "source": [
        "## 10. We know that tuple is immutable, do any thing and add element to the tuples."
      ],
      "metadata": {
        "id": "B1VBImcfns6V"
      }
    },
    {
      "cell_type": "code",
      "source": [
        "t=(1,2,3,4,5)\n",
        "x=9\n",
        "t+=(x,)\n",
        "print(\"adding element to tuple \",t)"
      ],
      "metadata": {
        "colab": {
          "base_uri": "https://localhost:8080/"
        },
        "id": "TZ0o6JFllILM",
        "outputId": "3bcfe98d-af34-46d4-84f1-22a005a132ac"
      },
      "execution_count": null,
      "outputs": [
        {
          "output_type": "stream",
          "name": "stdout",
          "text": [
            "adding element to tuple  (1, 2, 3, 4, 5, 9)\n"
          ]
        }
      ]
    },
    {
      "cell_type": "markdown",
      "source": [
        "## 11. How would you sum the list of tuple and sum of tuple of list\n",
        "list  = [(2,3),(4,5),(6,4)]\n",
        "output= [5,9,10]\n",
        "\n",
        "tuple  =([2,3],[4,5],[6,4])\n",
        "output  =  (5,9,10)"
      ],
      "metadata": {
        "id": "Yd7tDQHuoGFm"
      }
    },
    {
      "cell_type": "code",
      "source": [
        "l1 = [(2,3),(4,5),(6,4)]\n",
        "l2=[]\n",
        "for i in l1:\n",
        "  l2.append(i[0]+i[1])\n",
        "print(tuple(l2))"
      ],
      "metadata": {
        "colab": {
          "base_uri": "https://localhost:8080/"
        },
        "id": "yrVk8CizcPXt",
        "outputId": "9d3fb745-ac0d-4b23-b403-ad8071ce4200"
      },
      "execution_count": null,
      "outputs": [
        {
          "output_type": "stream",
          "name": "stdout",
          "text": [
            "(5, 9, 10)\n"
          ]
        }
      ]
    },
    {
      "cell_type": "markdown",
      "source": [
        ":## 12. FIND THE FREQUENCY OF THE Values IN THE GIVEN DICTIONARY"
      ],
      "metadata": {
        "id": "YiXg_vDpoq7X"
      }
    },
    {
      "cell_type": "code",
      "source": [
        "d={1:10,2:20,3:30,4:10,5:20}\n",
        "x=list(d.values())\n",
        "new_dict={}\n",
        "for i in x:\n",
        "  new_dict[i]=new_dict.get(i,0)+1\n",
        "print(\"Dictionary is: \",d)\n",
        "print(\"Frequency of the keys Dictionary \",new_dict)"
      ],
      "metadata": {
        "id": "YSLnrC4fnmSC",
        "colab": {
          "base_uri": "https://localhost:8080/"
        },
        "outputId": "d310b6fd-699e-44c6-968f-03ce4f4c8122"
      },
      "execution_count": 140,
      "outputs": [
        {
          "output_type": "stream",
          "name": "stdout",
          "text": [
            "Dictionary is:  {1: 10, 2: 20, 3: 30, 4: 10, 5: 20}\n",
            "Frequency of the keys Dictionary  {10: 2, 20: 2, 30: 1}\n"
          ]
        }
      ]
    }
  ]
}