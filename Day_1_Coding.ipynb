{
  "nbformat": 4,
  "nbformat_minor": 0,
  "metadata": {
    "colab": {
      "provenance": [],
      "include_colab_link": true
    },
    "kernelspec": {
      "name": "python3",
      "display_name": "Python 3"
    },
    "language_info": {
      "name": "python"
    }
  },
  "cells": [
    {
      "cell_type": "markdown",
      "metadata": {
        "id": "view-in-github",
        "colab_type": "text"
      },
      "source": [
        "<a href=\"https://colab.research.google.com/github/Rajendar98/python_fundamentals/blob/main/Day_1_Coding.ipynb\" target=\"_parent\"><img src=\"https://colab.research.google.com/assets/colab-badge.svg\" alt=\"Open In Colab\"/></a>"
      ]
    },
    {
      "cell_type": "markdown",
      "source": [
        "## how would you confimm that two strings have the same identity?"
      ],
      "metadata": {
        "id": "eh5Ph74_HqpD"
      }
    },
    {
      "cell_type": "code",
      "source": [
        "s1=input(\"enter string1:\")\n",
        "s2=input(\"enter string2:\")\n",
        "if s1==s2:\n",
        "  print(\"Two Strings have same identity\")\n",
        "else:\n",
        "  print(\"No two strings are have same identity\")"
      ],
      "metadata": {
        "id": "oERbt__VktUg",
        "colab": {
          "base_uri": "https://localhost:8080/"
        },
        "outputId": "a52bef2d-89b1-4ff3-cee3-3c7b33c25dd0"
      },
      "execution_count": 10,
      "outputs": [
        {
          "output_type": "stream",
          "name": "stdout",
          "text": [
            "enter string1:hello\n",
            "enter string2:hello\n",
            "Two Strings have same identity\n"
          ]
        }
      ]
    },
    {
      "cell_type": "markdown",
      "source": [
        "## how to check a string contain a specific substring"
      ],
      "metadata": {
        "id": "EGK-LzalIO_i"
      }
    },
    {
      "cell_type": "code",
      "source": [
        "s=input(\"enter string1:\")\n",
        "sb=input(\"enter substring:\")\n",
        "if sb in s:\n",
        "  print(\"substring is present in main string\")\n",
        "else:\n",
        "  print(\"NOT presen in main string\")"
      ],
      "metadata": {
        "id": "g1HYIC9gJ7Vi",
        "colab": {
          "base_uri": "https://localhost:8080/"
        },
        "outputId": "5cca596f-5061-410f-abc0-7a723a9f3e08"
      },
      "execution_count": 11,
      "outputs": [
        {
          "output_type": "stream",
          "name": "stdout",
          "text": [
            "enter string1:hello\n",
            "enter substring:lo\n",
            "substring is present in main string\n"
          ]
        }
      ]
    },
    {
      "cell_type": "markdown",
      "source": [
        "## how to a take a string from backward with two step difference?\n"
      ],
      "metadata": {
        "id": "LmY6RXjoJF9h"
      }
    },
    {
      "cell_type": "code",
      "source": [
        "s=input(\"enter string:\")\n",
        "t=s[::-2]\n",
        "print(\"original string is:\",s)\n",
        "print(\"String from backward with two step difference:\",t)"
      ],
      "metadata": {
        "id": "_C_pqVqBJ8AA",
        "colab": {
          "base_uri": "https://localhost:8080/"
        },
        "outputId": "d0ba84b6-5192-4b51-b40f-0ff04c4c9bde"
      },
      "execution_count": 12,
      "outputs": [
        {
          "output_type": "stream",
          "name": "stdout",
          "text": [
            "enter string:hello\n",
            "original string is: hello\n",
            "String from backward with two step difference: olh\n"
          ]
        }
      ]
    },
    {
      "cell_type": "markdown",
      "source": [
        "## how to find the index of the last element"
      ],
      "metadata": {
        "id": "7eg6JfyuJr_2"
      }
    },
    {
      "cell_type": "code",
      "source": [
        "s=input(\"enter string\")\n",
        "print(\"Index of last element is\", len(s)-1 )"
      ],
      "metadata": {
        "id": "T84ODp77J8zR",
        "colab": {
          "base_uri": "https://localhost:8080/"
        },
        "outputId": "1cbaeeaf-c591-41a5-edb0-b46cf0c29563"
      },
      "execution_count": 6,
      "outputs": [
        {
          "output_type": "stream",
          "name": "stdout",
          "text": [
            "enter stringhello\n",
            "Index of last element is 4\n"
          ]
        }
      ]
    },
    {
      "cell_type": "markdown",
      "source": [
        "## Write 2 ways to concatinate the string"
      ],
      "metadata": {
        "id": "FTdxvLc1J0lv"
      }
    },
    {
      "cell_type": "code",
      "source": [
        "s1=input(\"enter string1:\")\n",
        "s2=input(\"enter string2:\")\n",
        "print(\"ONE method concatinate is:\",s1+s2)\n",
        "print(\"Second way to concatinate is:\",\"\".join([s1,s2])h)"
      ],
      "metadata": {
        "id": "j8P9ODeTJ9Zz",
        "colab": {
          "base_uri": "https://localhost:8080/"
        },
        "outputId": "96029159-1009-468c-ea49-5dcad5e46b8b"
      },
      "execution_count": 9,
      "outputs": [
        {
          "output_type": "stream",
          "name": "stdout",
          "text": [
            "enter string1:hello\n",
            "enter string2:hi\n",
            "ONE method concatinate is: hellohi\n",
            "Second way to concatinate is: hellohi\n"
          ]
        }
      ]
    }
  ]
}